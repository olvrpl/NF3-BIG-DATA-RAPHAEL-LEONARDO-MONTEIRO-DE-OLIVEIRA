{
  "nbformat": 4,
  "nbformat_minor": 0,
  "metadata": {
    "colab": {
      "provenance": [],
      "authorship_tag": "ABX9TyPOyW1bDjgC6AeSY+ovuy9z",
      "include_colab_link": true
    },
    "kernelspec": {
      "name": "python3",
      "display_name": "Python 3"
    },
    "language_info": {
      "name": "python"
    }
  },
  "cells": [
    {
      "cell_type": "markdown",
      "metadata": {
        "id": "view-in-github",
        "colab_type": "text"
      },
      "source": [
        "<a href=\"https://colab.research.google.com/github/olvrpl/NF3-BIG-DATA-RAPHAEL-LEONARDO-MONTEIRO-DE-OLIVEIRA/blob/main/BigData_TrabalhoFinal_3.ipynb\" target=\"_parent\"><img src=\"https://colab.research.google.com/assets/colab-badge.svg\" alt=\"Open In Colab\"/></a>"
      ]
    },
    {
      "cell_type": "code",
      "source": [
        "#Big Data, Trabalho Final #3, Raphael Leonardo Monteiro de Oliveira, 202101296311"
      ],
      "metadata": {
        "id": "UtHuJ9rLSHsm"
      },
      "execution_count": null,
      "outputs": []
    },
    {
      "cell_type": "code",
      "source": [
        "#1.Obtenha o dataset do endereço https://www.w3resource.com/pythonexercises/pandas/filter/world_alcohol.csv e realize as seguintes análises (2,5 pontos):\n",
        "\n",
        "import pandas as pd\n",
        "dados = pd.read_csv('https://raw.githubusercontent.com/olvrpl/NF3-BIG-DATA-RAPHAEL-LEONARDO-MONTEIRO-DE-OLIVEIRA/main/world_alcohol.csv', encoding = 'latin-1', delimiter =',')\n",
        "world_alcohol = pd.DataFrame(dados)\n",
        "\n",
        "type(world_alcohol)\n",
        "world_alcohol"
      ],
      "metadata": {
        "id": "h1iSf6tYQ_j4"
      },
      "execution_count": null,
      "outputs": []
    },
    {
      "cell_type": "code",
      "execution_count": null,
      "metadata": {
        "id": "S2C1oyFy5NHa"
      },
      "outputs": [],
      "source": [
        "#1.a) Agrupe os dados por tipo de bebidas;\n",
        "\n",
        "import pandas as pd\n",
        "dados = pd.read_csv('https://raw.githubusercontent.com/olvrpl/NF3-BIG-DATA-RAPHAEL-LEONARDO-MONTEIRO-DE-OLIVEIRA/main/world_alcohol.csv', encoding = 'latin-1', delimiter =',')\n",
        "tipo_de_bebidas = dados.groupby('Beverage Types').std()\n",
        "\n",
        "tipo_de_bebidas"
      ]
    },
    {
      "cell_type": "code",
      "source": [
        "#1.b) Agrupe os dados por Região e por Ano;\n",
        "\n",
        "import pandas as pd\n",
        "dados = pd.read_csv('https://raw.githubusercontent.com/olvrpl/NF3-BIG-DATA-RAPHAEL-LEONARDO-MONTEIRO-DE-OLIVEIRA/main/world_alcohol.csv', encoding = 'latin-1', delimiter =',')\n",
        "regiao_ano = dados.groupby(['WHO region', 'Year']).std()\n",
        "\n",
        "regiao_ano"
      ],
      "metadata": {
        "id": "DiWz5VajAV2E"
      },
      "execution_count": null,
      "outputs": []
    },
    {
      "cell_type": "code",
      "source": [
        "#1.c) Seção de Contagens: Contar a ocorrência de Regiões, de Países e a soma da coluna de valores por Bebida.\n",
        "\n",
        "import pandas as pd\n",
        "dados = pd.read_csv('https://raw.githubusercontent.com/olvrpl/NF3-BIG-DATA-RAPHAEL-LEONARDO-MONTEIRO-DE-OLIVEIRA/main/world_alcohol.csv')\n",
        "\n",
        "contar_regioes = dados\n",
        "contar_paises = dados['Country'].value_counts()\n",
        "valores_por_bebida = dados.groupby('Beverage Types')['Display Value'].sum()\n",
        "\n",
        "print(contar_regioes)\n",
        "print(contar_paises)\n",
        "print(valores_por_bebida)\n"
      ],
      "metadata": {
        "id": "4YhRPQxyA2Ar"
      },
      "execution_count": null,
      "outputs": []
    },
    {
      "cell_type": "code",
      "source": [
        "#1.d) Realize análises estatísticas da coluna dos valores: Média, Moda, Mediana, Estatística, Descritiva e Gráfico de comparação dos valores agrupados por tipo de bebida.\n",
        "\n",
        "import pandas as pd\n",
        "import numpy as np\n",
        "import matplotlib.pyplot as plt\n",
        "dados = pd.read_csv('https://raw.githubusercontent.com/olvrpl/NF3-BIG-DATA-RAPHAEL-LEONARDO-MONTEIRO-DE-OLIVEIRA/main/world_alcohol.csv')\n",
        "\n",
        "media = dados['Display Value'].mean()\n",
        "moda = dados['Display Value'].mode().values\n",
        "mediana = dados['Display Value'].median()\n",
        "descritiva = dados['Display Value'].describe()\n",
        "\n",
        "dados.groupby('Beverage Types')['Display Value'].mean().plot(kind='bar')\n",
        "plt.ylabel('Média dos Valores')\n",
        "plt.title('Comparação dos Tipos de Bebidas')\n",
        "plt.show()\n",
        "\n",
        "print(\"Média:\", media)\n",
        "print(\"Moda:\", moda)\n",
        "print(\"Mediana:\", mediana)\n",
        "print(\"Estatística Descritiva:\")\n",
        "print(descritiva)"
      ],
      "metadata": {
        "id": "kV5UBBr4FnjF"
      },
      "execution_count": null,
      "outputs": []
    },
    {
      "cell_type": "code",
      "source": [
        "#1.e) Mostre resultados de acordo com alguns critérios: i. Mostrar a coluna de bebidas do ano de 1985. ii. Mostrar a coluna de Região com valores acima de 4.\n",
        "\n",
        "import pandas as pd\n",
        "dados = pd.read_csv('https://raw.githubusercontent.com/olvrpl/NF3-BIG-DATA-RAPHAEL-LEONARDO-MONTEIRO-DE-OLIVEIRA/main/world_alcohol.csv')\n",
        "\n",
        "ano = dados['Year'] == 1985\n",
        "bebidas = dados.loc[ano, 'Beverage Types']\n",
        "print(\"Mostrar a coluna de bebidas do ano de 1985:\")\n",
        "print(bebidas)\n",
        "print()\n",
        "\n",
        "filtro_regiao = dados['Display Value'] > 4\n",
        "coluna_regiao_acima_de_4 = dados.loc[filtro_regiao, 'WHO region']\n",
        "print(\"Mostrar a coluna de Região com valores acima de 4:\")\n",
        "print(coluna_regiao_acima_de_4)\n"
      ],
      "metadata": {
        "id": "4dRD7rj0MjIo"
      },
      "execution_count": null,
      "outputs": []
    },
    {
      "cell_type": "code",
      "source": [
        "#2. Seja o dataset chamado cursos-prouni.csv que se encontra no endereço Cursos e notas de corte do PROUNI 2018 - Datasets - Brasil.IO.\n",
        "#   Baixe o arquivo, armazene no seu github** e obtenha os dados a partir desse endereço do github e realize as seguintes análises (2,5 pontos):\n",
        "\n",
        "import pandas as pd\n",
        "dados = pd.read_csv('https://raw.githubusercontent.com/olvrpl/NF3-BIG-DATA-RAPHAEL-LEONARDO-MONTEIRO-DE-OLIVEIRA/main/cursos-prouni.csv', encoding = 'latin-1', delimiter =',')\n",
        "cursos_prouni = pd.DataFrame(dados)\n",
        "type(cursos_prouni)\n",
        "cursos_prouni"
      ],
      "metadata": {
        "id": "o5dpczoMR3nZ"
      },
      "execution_count": null,
      "outputs": []
    },
    {
      "cell_type": "code",
      "source": [
        "#2.a) Efetuar a limpeza das colunas de notas: onde tiver NaN (Not a Number), substituir por 0,0.\n",
        "\n",
        "import pandas as pd\n",
        "dados = pd.read_csv('https://raw.githubusercontent.com/olvrpl/NF3-BIG-DATA-RAPHAEL-LEONARDO-MONTEIRO-DE-OLIVEIRA/main/cursos-prouni.csv', encoding = 'latin-1', delimiter =',')\n",
        "limpeza_colunas = dados.fillna(0)\n",
        "limpeza_colunas"
      ],
      "metadata": {
        "id": "Oy3OMp_pPMlq"
      },
      "execution_count": null,
      "outputs": []
    },
    {
      "cell_type": "code",
      "source": [
        "#2.b) Agrupe os dados pelo grau (Bacharelado, Licenciatura, etc).\n",
        "\n",
        "import pandas as pd\n",
        "dados = pd.read_csv('https://raw.githubusercontent.com/olvrpl/NF3-BIG-DATA-RAPHAEL-LEONARDO-MONTEIRO-DE-OLIVEIRA/main/cursos-prouni.csv', encoding = 'latin-1', delimiter =',')\n",
        "agrupado_pelo_grau = dados.groupby('grau')\n",
        "agrupado_pelo_grau.describe()"
      ],
      "metadata": {
        "id": "HYQLcFWXPR_h"
      },
      "execution_count": null,
      "outputs": []
    },
    {
      "cell_type": "code",
      "source": [
        "#2.c) Agrupe os dados pelos cursos de Matemática, Medicina e Pedagogia.\n",
        "\n",
        "import pandas as pd\n",
        "dados = pd.read_csv('https://raw.githubusercontent.com/olvrpl/NF3-BIG-DATA-RAPHAEL-LEONARDO-MONTEIRO-DE-OLIVEIRA/main/cursos-prouni.csv', encoding = 'latin-1', delimiter =',')\n",
        "\n",
        "mat = dados.groupby('curso_busca')\n",
        "mat.get_group('Matemática').groupby('curso_busca').std()\n",
        "print(mat)\n",
        "med = dados.groupby('curso_busca')\n",
        "med.get_group('Medicina').groupby('curso_busca').std()\n",
        "print(med)\n",
        "ped = dados.groupby('curso_busca')\n",
        "ped.get_group('Pedagogia').groupby('curso_busca').std()\n",
        "print(ped)"
      ],
      "metadata": {
        "id": "DwFQe48JPVqE"
      },
      "execution_count": null,
      "outputs": []
    },
    {
      "cell_type": "code",
      "source": [
        "#2.d) Agrupe os dados por Estado e obtenha a média de notas de corte por Estado.\n",
        "\n",
        "import pandas as pd\n",
        "dados = pd.read_csv('https://raw.githubusercontent.com/olvrpl/NF3-BIG-DATA-RAPHAEL-LEONARDO-MONTEIRO-DE-OLIVEIRA/main/cursos-prouni.csv', encoding = 'latin-1', delimiter =',')\n",
        "dados.groupby('uf_busca')['nota_integral_ampla', 'nota_integral_cotas', 'nota_parcial_ampla', 'nota_parcial_cotas'].mean()"
      ],
      "metadata": {
        "id": "fVvLqkmMPaeO"
      },
      "execution_count": null,
      "outputs": []
    },
    {
      "cell_type": "code",
      "source": [
        "#2.e) Agrupe os dados pelos cursos Tecnológicos.\n",
        "\n",
        "import pandas as pd\n",
        "dados = pd.read_csv('https://raw.githubusercontent.com/olvrpl/NF3-BIG-DATA-RAPHAEL-LEONARDO-MONTEIRO-DE-OLIVEIRA/main/cursos-prouni.csv', encoding = 'latin-1', delimiter =',')\n",
        "\n",
        "tec = dados.groupby('grau')\n",
        "tec.get_group('Tecnológico').groupby('grau').describe()\n",
        "print(tec)"
      ],
      "metadata": {
        "id": "HXCUm6R1Pdov"
      },
      "execution_count": null,
      "outputs": []
    },
    {
      "cell_type": "code",
      "source": [
        "#2.f) Elimine a coluna “cidade_filtro” do dataframe.\n",
        "\n",
        "import pandas as pd\n",
        "dados = pd.read_csv('https://raw.githubusercontent.com/olvrpl/NF3-BIG-DATA-RAPHAEL-LEONARDO-MONTEIRO-DE-OLIVEIRA/main/cursos-prouni.csv', encoding = 'latin-1', delimiter =',')\n",
        "\n",
        "elimine_coluna = dados.drop(columns = ['cidade_filtro'])\n",
        "elimine_coluna.head()"
      ],
      "metadata": {
        "id": "r2zME_LEPhdP"
      },
      "execution_count": null,
      "outputs": []
    },
    {
      "cell_type": "code",
      "source": [
        "#2.g) Apresente a média das mensalidades dos cursos de Medicina.\n",
        "\n",
        "import pandas as pd\n",
        "dados = pd.read_csv('https://raw.githubusercontent.com/olvrpl/NF3-BIG-DATA-RAPHAEL-LEONARDO-MONTEIRO-DE-OLIVEIRA/main/cursos-prouni.csv', encoding = 'latin-1', delimiter =',')\n",
        "\n",
        "med = dados[dados['curso_busca'] == 'Medicina']\n",
        "\n",
        "media_mensalidade = med['mensalidade'].mean()\n",
        "print (\"A média das mensalidades é: \", media_mensalidade)"
      ],
      "metadata": {
        "id": "Kw6kwMcHPlcB"
      },
      "execution_count": null,
      "outputs": []
    },
    {
      "cell_type": "code",
      "source": [
        "#2.h) Média das notas de corte dos cursos de tempo integral.\n",
        "\n",
        "import pandas as pd\n",
        "dados = pd.read_csv('https://raw.githubusercontent.com/olvrpl/NF3-BIG-DATA-RAPHAEL-LEONARDO-MONTEIRO-DE-OLIVEIRA/main/cursos-prouni.csv', encoding = 'latin-1', delimiter =',')\n",
        "nota_corte = dados[dados['turno'] == 'Integral']\n",
        "media_notas = grupo_nota['nota_integral_ampla'].mean()\n",
        "print (\"A média das notas é: \", media_notas)"
      ],
      "metadata": {
        "id": "kfx5nYg3Po2G"
      },
      "execution_count": null,
      "outputs": []
    },
    {
      "cell_type": "code",
      "source": [
        "#2.i) Estatística Descritiva das Notas Integral Ampla dos cursos de Bacharelado.\n",
        "\n",
        "import pandas as pd\n",
        "dados = pd.read_csv('https://raw.githubusercontent.com/olvrpl/NF3-BIG-DATA-RAPHAEL-LEONARDO-MONTEIRO-DE-OLIVEIRA/main/cursos-prouni.csv', encoding = 'latin-1', delimiter =',')\n",
        "nota_integral = dados[(dados['grau'] == 'Bacharelado') & (dados['nota_integral_ampla'])]\n",
        "notas = nota_integral['nota_integral_ampla'].head()\n",
        "print(notas)"
      ],
      "metadata": {
        "id": "PuBjIHuTQI4d"
      },
      "execution_count": null,
      "outputs": []
    },
    {
      "cell_type": "code",
      "source": [
        "#2.j) Gráfico comparativo entre o grau dos cursos (Bacharelado, Licenciatura, Tecnologia, etc) pelas Notas Integral de Cotas.\n",
        "\n",
        "import pandas as pd\n",
        "dados = pd.read_csv('https://raw.githubusercontent.com/olvrpl/NF3-BIG-DATA-RAPHAEL-LEONARDO-MONTEIRO-DE-OLIVEIRA/main/cursos-prouni.csv', encoding = 'latin-1', delimiter =',')\n",
        "grupo = dados.groupby('grau')['nota_integral_cotas'].std()\n",
        "grupo.plot.bar(x='grau', y = 'nota_integral_ampla')\n",
        "print(grupo)"
      ],
      "metadata": {
        "id": "WJpI2C9rQMKY"
      },
      "execution_count": null,
      "outputs": []
    }
  ]
}